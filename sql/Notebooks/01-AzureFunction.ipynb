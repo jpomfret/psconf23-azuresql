{
    "metadata": {
        "kernelspec": {
            "name": "SQL",
            "display_name": "SQL",
            "language": "sql"
        },
        "language_info": {
            "name": "sql",
            "version": ""
        }
    },
    "nbformat_minor": 2,
    "nbformat": 4,
    "cells": [
        {
            "cell_type": "markdown",
            "source": [
                "# Azure Function to build Storage Accounts\r\n",
                "\r\n",
                "We have a table that contains the details of the required storage accounts - let's have Azure SQL build them out.\r\n",
                "\r\n",
                "Requirements:\r\n",
                "- The Azure SQL DB table should be the 'system of record' - so the single source of truth\r\n",
                "- Adding rows should create a storage account\r\n",
                "- Deleting rows should remove the storage account\r\n",
                "- Modifying rows?\r\n",
                "\r\n",
                "Questions remain in this example:\r\n",
                "- How does the data get here?\r\n",
                "    - Maybe another API to insert data - from change management system\r\n",
                "    - A front end web application that lets users request storage accounts\r\n",
                "    - ??\r\n",
                "\r\n",
                ""
            ],
            "metadata": {
                "azdata_cell_guid": "f120050d-41bd-4deb-b471-0cf4acf426be"
            },
            "attachments": {}
        },
        {
            "cell_type": "markdown",
            "source": [
                "## PreReqs\n",
                "- Create the Azure Function to do the work\n",
                "- Configure Authentication\n",
                "    - There are options - best option is Managed Identity\n",
                "        - Enable Managed Identity for Azure SQL Database\n",
                "            - This creates an app id to use for authentication\n",
                "        - Enabled Azure AD authentication for Azure Function\n",
                "\n",
                "## Setup\n",
                "\n",
                "1. Create a database master key if one doesn't exist - with a proper strong password"
            ],
            "metadata": {
                "language": "sql",
                "azdata_cell_guid": "fb3b77e4-61ba-48a8-a9f6-f8de4f8f5ca6"
            },
            "attachments": {}
        },
        {
            "cell_type": "code",
            "source": [
                "-- create a database master key\r\n",
                "IF NOT EXISTS(SELECT * FROM sys.symmetric_keys WHERE name = '##MS_DatabaseMasterKey##')\r\n",
                "BEGIN\r\n",
                "    create master key encryption by password = '*********'\r\n",
                "END"
            ],
            "metadata": {
                "azdata_cell_guid": "135dce32-f465-4267-af10-faddf930a2e7",
                "language": "sql"
            },
            "outputs": [],
            "execution_count": null
        },
        {
            "cell_type": "markdown",
            "source": [
                "2. Store the app id for the Azure SQL DB as a `DATABASE SCOPED CREDENTIAL`"
            ],
            "metadata": {
                "azdata_cell_guid": "47b80104-f9db-4c92-bdb2-cc25b35272a9"
            },
            "attachments": {}
        },
        {
            "cell_type": "code",
            "source": [
                "-- create a database scoped credential for managed identity (or Request Headers or Query String)\r\n",
                "CREATE DATABASE SCOPED CREDENTIAL [https://psconfeu2023.azurewebsites.net/api/NewStorageAcct]\r\n",
                "WITH IDENTITY = 'Managed Identity', SECRET = '{\"resourceid\":\"GUID-GUID-GUID-GUID-GUID\"}';"
            ],
            "metadata": {
                "azdata_cell_guid": "2260fdb7-37b5-4abf-8fda-4c2e596d358c",
                "language": "sql",
                "tags": []
            },
            "outputs": [],
            "execution_count": null
        },
        {
            "cell_type": "markdown",
            "source": [
                "3. Call `sp_invoke_external_rest_endpoint` to create a storage account"
            ],
            "metadata": {
                "azdata_cell_guid": "134feaa0-9b6f-4c78-9fe5-c9147550ca93"
            },
            "attachments": {}
        },
        {
            "cell_type": "code",
            "source": [
                "set @url = 'https://psconfeu2023.azurewebsites.net/api/NewStorageAcct?name=' + LOWER(@Name)\r\n",
                "\r\n",
                "declare @ret as int, @response as nvarchar(max);\r\n",
                "\r\n",
                "exec @ret = sp_invoke_external_rest_endpoint \r\n",
                "\t@method = 'GET',\r\n",
                "\t@url = @url,\r\n",
                "    @timeout = 230, -- max value which is 3.8 mins\r\n",
                "    @credential = [https://psconfeu2023.azurewebsites.net/api/NewStorageAcct],\r\n",
                " \t@response = @response output;\r\n",
                "\t\r\n",
                "select @ret as ReturnCode, @response as Response;\r\n",
                "\r\n",
                "exec @ret = sp_invoke_external_rest_endpoint \r\n",
                "\t@method = 'GET',\r\n",
                "\t@url = @url,\r\n",
                " \t@response = @response output;\r\n",
                "\r\n",
                "GO"
            ],
            "metadata": {
                "azdata_cell_guid": "ee095b8f-a359-4a50-8345-d267149961f2",
                "language": "sql"
            },
            "outputs": [],
            "execution_count": null
        }
    ]
}