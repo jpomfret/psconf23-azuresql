{
    "cells": [
        {
            "attachments": {},
            "cell_type": "markdown",
            "metadata": {
                "azdata_cell_guid": "da046939-3594-436f-9786-f9e9db7f157b"
            },
            "source": [
                "# Azure Function - SQL Trigger\n",
                "\n"
            ]
        },
        {
            "attachments": {},
            "cell_type": "markdown",
            "metadata": {
                "azdata_cell_guid": "c89071e6-ea38-4023-b137-ab3b74d3303c",
                "language": "sql"
            },
            "source": [
                "1. Create a table to store the storage account info in and a log table."
            ]
        },
        {
            "cell_type": "code",
            "execution_count": 80,
            "metadata": {
                "azdata_cell_guid": "9fb6457a-5d1f-4728-a84f-82ad2bd4bd35",
                "language": "sql"
            },
            "outputs": [
                {
                    "data": {
                        "text/html": [
                            "Commands completed successfully."
                        ]
                    },
                    "metadata": {},
                    "output_type": "display_data"
                },
                {
                    "data": {
                        "text/html": [
                            "Total execution time: 00:00:00.046"
                        ]
                    },
                    "metadata": {},
                    "output_type": "display_data"
                }
            ],
            "source": [
                "-- DROP TABLE [dbo].[storageAcct]; DROP TABLE [dbo].[log]\n",
                "\n",
                "-- create the storageAcct table\n",
                "CREATE TABLE [dbo].[storageAcct](\n",
                "    [storageAcctId] [int] IDENTITY(1,1) PRIMARY KEY NOT NULL,\n",
                "    [storageAcctName] [varchar](50) NOT NULL\n",
                ")\n",
                "\n",
                "-- Create a log table\n",
                "CREATE TABLE [dbo].[log](\n",
                "    [logId] [int] IDENTITY(1,1) PRIMARY KEY NOT NULL,\n",
                "    [logDate] [datetime] NOT NULL DEFAULT (getdate()),\n",
                "    [logMessage] [varchar](max) NOT NULL\n",
                ")"
            ]
        },
        {
            "attachments": {},
            "cell_type": "markdown",
            "metadata": {
                "azdata_cell_guid": "986c7005-ba31-47a9-91c2-9754b3f524f7"
            },
            "source": [
                "2. Enable change data tracking for your database"
            ]
        },
        {
            "cell_type": "code",
            "execution_count": 2,
            "metadata": {
                "azdata_cell_guid": "7bb6dc5a-934b-4992-89b2-c53e1ac16867",
                "language": "sql"
            },
            "outputs": [
                {
                    "ename": "",
                    "evalue": "Msg 5088, Level 16, State 1, Line 1\r\nChange tracking is already enabled for database 'psconfeu-db-cdc-dev'.",
                    "output_type": "error",
                    "traceback": []
                },
                {
                    "ename": "",
                    "evalue": "Msg 5069, Level 16, State 1, Line 1\r\nALTER DATABASE statement failed.",
                    "output_type": "error",
                    "traceback": []
                },
                {
                    "data": {
                        "text/html": [
                            "Total execution time: 00:00:00.170"
                        ]
                    },
                    "metadata": {},
                    "output_type": "display_data"
                }
            ],
            "source": [
                "ALTER DATABASE [psconfeu-db-cdc-dev]\n",
                "SET CHANGE_TRACKING = ON\n",
                "(CHANGE_RETENTION = 2 DAYS, AUTO_CLEANUP = ON);"
            ]
        },
        {
            "attachments": {},
            "cell_type": "markdown",
            "metadata": {
                "azdata_cell_guid": "865124c2-f2b0-4e58-aeb0-07b4e2da212d"
            },
            "source": [
                "3. Enable change tracking on the table"
            ]
        },
        {
            "cell_type": "code",
            "execution_count": 81,
            "metadata": {
                "azdata_cell_guid": "8cbc4183-2b91-4cdf-a0eb-86f0a440336a",
                "language": "sql"
            },
            "outputs": [
                {
                    "data": {
                        "text/html": [
                            "Commands completed successfully."
                        ]
                    },
                    "metadata": {},
                    "output_type": "display_data"
                },
                {
                    "data": {
                        "text/html": [
                            "Total execution time: 00:00:00.026"
                        ]
                    },
                    "metadata": {},
                    "output_type": "display_data"
                }
            ],
            "source": [
                "ALTER TABLE [dbo].[storageAcct]\n",
                "ENABLE CHANGE_TRACKING;"
            ]
        },
        {
            "attachments": {},
            "cell_type": "markdown",
            "metadata": {
                "azdata_cell_guid": "cb74a0cf-94a4-49ac-8c55-10ee38546fb5",
                "language": "sql"
            },
            "source": [
                "The trigger needs to have read access on the table being monitored for changes and to the change tracking system tables."
            ]
        },
        {
            "attachments": {},
            "cell_type": "markdown",
            "metadata": {
                "azdata_cell_guid": "237da12f-881d-4438-845e-46a83c605697"
            },
            "source": [
                "### Enable runtime-driven scaling\n",
                "Optionally, your functions can scale automatically based on the number of changes that are pending to be processed in the user table. To allow your functions to scale properly on the Premium plan when using SQL triggers, you need to enable runtime scale monitoring."
            ]
        },
        {
            "cell_type": "code",
            "execution_count": 88,
            "metadata": {
                "azdata_cell_guid": "0f1f4ed3-c404-4ef6-a954-035c5889a532",
                "language": "sql",
                "tags": []
            },
            "outputs": [
                {
                    "data": {
                        "text/html": [
                            "(1 row affected)"
                        ]
                    },
                    "metadata": {},
                    "output_type": "display_data"
                },
                {
                    "data": {
                        "text/html": [
                            "Total execution time: 00:00:00.026"
                        ]
                    },
                    "metadata": {},
                    "output_type": "display_data"
                }
            ],
            "source": [
                "INSERT INTO storageAcct (storageAcctName)\n",
                "VALUES ('cdcandrew255556')\n",
                "\n"
            ]
        },
        {
            "cell_type": "code",
            "execution_count": 100,
            "metadata": {
                "azdata_cell_guid": "41dcf4ce-c2ec-492b-9f8b-bae7193cb725",
                "language": "sql"
            },
            "outputs": [
                {
                    "data": {
                        "text/html": [
                            "(5 rows affected)"
                        ]
                    },
                    "metadata": {},
                    "output_type": "display_data"
                },
                {
                    "data": {
                        "text/html": [
                            "(5 rows affected)"
                        ]
                    },
                    "metadata": {},
                    "output_type": "display_data"
                },
                {
                    "data": {
                        "text/html": [
                            "Total execution time: 00:00:00.034"
                        ]
                    },
                    "metadata": {},
                    "output_type": "display_data"
                },
                {
                    "data": {
                        "application/vnd.dataresource+json": {
                            "data": [
                                {
                                    "storageAcctId": "1",
                                    "storageAcctName": "cdcandrew2256"
                                },
                                {
                                    "storageAcctId": "2",
                                    "storageAcctName": "cdcandrew2256"
                                },
                                {
                                    "storageAcctId": "3",
                                    "storageAcctName": "cdcandrew255556"
                                },
                                {
                                    "storageAcctId": "4",
                                    "storageAcctName": "cdcandrew255556"
                                },
                                {
                                    "storageAcctId": "5",
                                    "storageAcctName": "cdcandrew255556"
                                }
                            ],
                            "schema": {
                                "fields": [
                                    {
                                        "name": "storageAcctId"
                                    },
                                    {
                                        "name": "storageAcctName"
                                    }
                                ]
                            }
                        },
                        "text/html": [
                            "<table>\n",
                            "<tr><th>storageAcctId</th><th>storageAcctName</th></tr>\n",
                            "<tr><td>1</td><td>cdcandrew2256</td></tr>\n",
                            "<tr><td>2</td><td>cdcandrew2256</td></tr>\n",
                            "<tr><td>3</td><td>cdcandrew255556</td></tr>\n",
                            "<tr><td>4</td><td>cdcandrew255556</td></tr>\n",
                            "<tr><td>5</td><td>cdcandrew255556</td></tr>\n",
                            "</table>"
                        ]
                    },
                    "execution_count": 100,
                    "metadata": {},
                    "output_type": "execute_result"
                },
                {
                    "data": {
                        "application/vnd.dataresource+json": {
                            "data": [
                                {
                                    "logDate": "2023-05-22 18:28:09.837",
                                    "logId": "1",
                                    "logMessage": " - The Azure PowerShell session has not been properly initialized.  Please import the module and try again."
                                },
                                {
                                    "logDate": "2023-05-22 18:28:26.300",
                                    "logId": "2",
                                    "logMessage": " - The Azure PowerShell session has not been properly initialized.  Please import the module and try again."
                                },
                                {
                                    "logDate": "2023-05-22 18:28:50.547",
                                    "logId": "3",
                                    "logMessage": " - The Azure PowerShell session has not been properly initialized.  Please import the module and try again."
                                },
                                {
                                    "logDate": "2023-05-22 18:29:20.040",
                                    "logId": "4",
                                    "logMessage": " - The Azure PowerShell session has not been properly initialized.  Please import the module and try again."
                                },
                                {
                                    "logDate": "2023-05-22 18:30:52.733",
                                    "logId": "5",
                                    "logMessage": "Creating storage account(s): cdcandrew255556 created - Succeeded"
                                }
                            ],
                            "schema": {
                                "fields": [
                                    {
                                        "name": "logId"
                                    },
                                    {
                                        "name": "logDate"
                                    },
                                    {
                                        "name": "logMessage"
                                    }
                                ]
                            }
                        },
                        "text/html": [
                            "<table>\n",
                            "<tr><th>logId</th><th>logDate</th><th>logMessage</th></tr>\n",
                            "<tr><td>1</td><td>2023-05-22 18:28:09.837</td><td> - The Azure PowerShell session has not been properly initialized.  Please import the module and try again.</td></tr>\n",
                            "<tr><td>2</td><td>2023-05-22 18:28:26.300</td><td> - The Azure PowerShell session has not been properly initialized.  Please import the module and try again.</td></tr>\n",
                            "<tr><td>3</td><td>2023-05-22 18:28:50.547</td><td> - The Azure PowerShell session has not been properly initialized.  Please import the module and try again.</td></tr>\n",
                            "<tr><td>4</td><td>2023-05-22 18:29:20.040</td><td> - The Azure PowerShell session has not been properly initialized.  Please import the module and try again.</td></tr>\n",
                            "<tr><td>5</td><td>2023-05-22 18:30:52.733</td><td>Creating storage account(s): cdcandrew255556 created - Succeeded</td></tr>\n",
                            "</table>"
                        ]
                    },
                    "execution_count": 100,
                    "metadata": {},
                    "output_type": "execute_result"
                }
            ],
            "source": [
                "select * \n",
                "from storageAcct\n",
                "\n",
                "select * \n",
                "from dbo.log"
            ]
        }
    ],
    "metadata": {
        "kernelspec": {
            "display_name": "SQL",
            "language": "sql",
            "name": "SQL"
        },
        "language_info": {
            "name": "sql",
            "version": ""
        }
    },
    "nbformat": 4,
    "nbformat_minor": 2
}
