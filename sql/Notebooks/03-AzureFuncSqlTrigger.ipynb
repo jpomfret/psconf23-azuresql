{
    "metadata": {
        "kernelspec": {
            "name": "SQL",
            "display_name": "SQL",
            "language": "sql"
        },
        "language_info": {
            "name": "sql",
            "version": ""
        }
    },
    "nbformat_minor": 2,
    "nbformat": 4,
    "cells": [
        {
            "cell_type": "markdown",
            "source": [
                "# Azure Function - SQL Trigger\n",
                "\n"
            ],
            "metadata": {
                "azdata_cell_guid": "da046939-3594-436f-9786-f9e9db7f157b"
            },
            "attachments": {}
        },
        {
            "cell_type": "markdown",
            "source": [
                "1. Create a table to store the storage account info in and a log table."
            ],
            "metadata": {
                "azdata_cell_guid": "c89071e6-ea38-4023-b137-ab3b74d3303c",
                "language": "sql"
            },
            "attachments": {}
        },
        {
            "cell_type": "code",
            "source": [
                "DROP TABLE [dbo].[storageAcct]; DROP TABLE [dbo].[log]\n",
                "\n",
                "-- create the storageAcct table\n",
                "CREATE TABLE [dbo].[storageAcct](\n",
                "    [storageAcctId] [int] IDENTITY(1,1) PRIMARY KEY NOT NULL,\n",
                "    [storageAcctName] [varchar](50) NOT NULL\n",
                ")\n",
                "\n",
                "-- Create a log table\n",
                "CREATE TABLE [dbo].[log](\n",
                "    [logId] [int] IDENTITY(1,1) PRIMARY KEY NOT NULL,\n",
                "    [logDate] [datetime] NOT NULL DEFAULT (getdate()),\n",
                "    [logMessage] [varchar](max) NOT NULL\n",
                ")"
            ],
            "metadata": {
                "azdata_cell_guid": "9fb6457a-5d1f-4728-a84f-82ad2bd4bd35",
                "language": "sql"
            },
            "outputs": [
                {
                    "output_type": "display_data",
                    "data": {
                        "text/html": "Commands completed successfully."
                    },
                    "metadata": {}
                },
                {
                    "output_type": "display_data",
                    "data": {
                        "text/html": "Total execution time: 00:00:00.065"
                    },
                    "metadata": {}
                }
            ],
            "execution_count": 1
        },
        {
            "cell_type": "markdown",
            "source": [
                "2. Enable change data tracking for your database"
            ],
            "metadata": {
                "azdata_cell_guid": "986c7005-ba31-47a9-91c2-9754b3f524f7"
            },
            "attachments": {}
        },
        {
            "cell_type": "code",
            "source": [
                "ALTER DATABASE [psconfeu-db-cdc-dev]\n",
                "SET CHANGE_TRACKING = ON\n",
                "(CHANGE_RETENTION = 2 DAYS, AUTO_CLEANUP = ON);"
            ],
            "metadata": {
                "azdata_cell_guid": "7bb6dc5a-934b-4992-89b2-c53e1ac16867",
                "language": "sql"
            },
            "outputs": [
                {
                    "output_type": "error",
                    "ename": "",
                    "evalue": "Msg 5088, Level 16, State 1, Line 1\r\nChange tracking is already enabled for database 'psconfeu-db-cdc-dev'.",
                    "traceback": []
                },
                {
                    "output_type": "error",
                    "ename": "",
                    "evalue": "Msg 5069, Level 16, State 1, Line 1\r\nALTER DATABASE statement failed.",
                    "traceback": []
                },
                {
                    "output_type": "display_data",
                    "data": {
                        "text/html": "Total execution time: 00:00:00.170"
                    },
                    "metadata": {}
                }
            ],
            "execution_count": 2
        },
        {
            "cell_type": "markdown",
            "source": [
                "3. Enable change tracking on the table"
            ],
            "metadata": {
                "azdata_cell_guid": "865124c2-f2b0-4e58-aeb0-07b4e2da212d"
            },
            "attachments": {}
        },
        {
            "cell_type": "code",
            "source": [
                "ALTER TABLE [dbo].[storageAcct]\n",
                "ENABLE CHANGE_TRACKING;"
            ],
            "metadata": {
                "azdata_cell_guid": "8cbc4183-2b91-4cdf-a0eb-86f0a440336a",
                "language": "sql"
            },
            "outputs": [
                {
                    "output_type": "display_data",
                    "data": {
                        "text/html": "Commands completed successfully."
                    },
                    "metadata": {}
                },
                {
                    "output_type": "display_data",
                    "data": {
                        "text/html": "Total execution time: 00:00:00.034"
                    },
                    "metadata": {}
                }
            ],
            "execution_count": 2
        },
        {
            "cell_type": "markdown",
            "source": [
                "The trigger needs to have read access on the table being monitored for changes and to the change tracking system tables."
            ],
            "metadata": {
                "azdata_cell_guid": "cb74a0cf-94a4-49ac-8c55-10ee38546fb5",
                "language": "sql"
            },
            "attachments": {}
        },
        {
            "cell_type": "markdown",
            "source": [
                "### Enable runtime-driven scaling\n",
                "Optionally, your functions can scale automatically based on the number of changes that are pending to be processed in the user table. To allow your functions to scale properly on the Premium plan when using SQL triggers, you need to enable runtime scale monitoring."
            ],
            "metadata": {
                "azdata_cell_guid": "237da12f-881d-4438-845e-46a83c605697"
            },
            "attachments": {}
        },
        {
            "cell_type": "code",
            "source": [
                "INSERT INTO storageAcct (storageAcctName)\n",
                "VALUES ('cdcaw955556'),('cdcaw955556')\n",
                "\n",
                ""
            ],
            "metadata": {
                "azdata_cell_guid": "0f1f4ed3-c404-4ef6-a954-035c5889a532",
                "language": "sql",
                "tags": []
            },
            "outputs": [
                {
                    "output_type": "display_data",
                    "data": {
                        "text/html": "(1 row affected)"
                    },
                    "metadata": {}
                },
                {
                    "output_type": "display_data",
                    "data": {
                        "text/html": "Total execution time: 00:00:00.023"
                    },
                    "metadata": {}
                }
            ],
            "execution_count": 8
        },
        {
            "cell_type": "code",
            "source": [
                "select * \n",
                "from storageAcct\n",
                "\n",
                "select * \n",
                "from dbo.log"
            ],
            "metadata": {
                "azdata_cell_guid": "41dcf4ce-c2ec-492b-9f8b-bae7193cb725",
                "language": "sql"
            },
            "outputs": [
                {
                    "output_type": "display_data",
                    "data": {
                        "text/html": "(1 row affected)"
                    },
                    "metadata": {}
                },
                {
                    "output_type": "display_data",
                    "data": {
                        "text/html": "(1 row affected)"
                    },
                    "metadata": {}
                },
                {
                    "output_type": "display_data",
                    "data": {
                        "text/html": "Total execution time: 00:00:00.036"
                    },
                    "metadata": {}
                },
                {
                    "output_type": "execute_result",
                    "metadata": {},
                    "execution_count": 4,
                    "data": {
                        "application/vnd.dataresource+json": {
                            "schema": {
                                "fields": [
                                    {
                                        "name": "storageAcctId"
                                    },
                                    {
                                        "name": "storageAcctName"
                                    }
                                ]
                            },
                            "data": [
                                {
                                    "storageAcctId": "1",
                                    "storageAcctName": "cdcjess255556"
                                }
                            ]
                        },
                        "text/html": [
                            "<table>",
                            "<tr><th>storageAcctId</th><th>storageAcctName</th></tr>",
                            "<tr><td>1</td><td>cdcjess255556</td></tr>",
                            "</table>"
                        ]
                    }
                },
                {
                    "output_type": "execute_result",
                    "metadata": {},
                    "execution_count": 4,
                    "data": {
                        "application/vnd.dataresource+json": {
                            "schema": {
                                "fields": [
                                    {
                                        "name": "logId"
                                    },
                                    {
                                        "name": "logDate"
                                    },
                                    {
                                        "name": "logMessage"
                                    }
                                ]
                            },
                            "data": [
                                {
                                    "logId": "1",
                                    "logDate": "2023-05-23 17:23:00.637",
                                    "logMessage": " - The Azure PowerShell session has not been properly initialized.  Please import the module and try again."
                                }
                            ]
                        },
                        "text/html": [
                            "<table>",
                            "<tr><th>logId</th><th>logDate</th><th>logMessage</th></tr>",
                            "<tr><td>1</td><td>2023-05-23 17:23:00.637</td><td> - The Azure PowerShell session has not been properly initialized.  Please import the module and try again.</td></tr>",
                            "</table>"
                        ]
                    }
                }
            ],
            "execution_count": 4
        }
    ]
}